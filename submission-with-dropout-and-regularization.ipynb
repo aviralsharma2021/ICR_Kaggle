{
 "cells": [
  {
   "cell_type": "code",
   "execution_count": 1,
   "id": "7e66542c",
   "metadata": {
    "_cell_guid": "b1076dfc-b9ad-4769-8c92-a6c4dae69d19",
    "_uuid": "8f2839f25d086af736a60e9eeb907d3b93b6e0e5",
    "execution": {
     "iopub.execute_input": "2023-05-29T15:44:26.822524Z",
     "iopub.status.busy": "2023-05-29T15:44:26.822042Z",
     "iopub.status.idle": "2023-05-29T15:44:26.836133Z",
     "shell.execute_reply": "2023-05-29T15:44:26.835225Z"
    },
    "papermill": {
     "duration": 0.02413,
     "end_time": "2023-05-29T15:44:26.838620",
     "exception": false,
     "start_time": "2023-05-29T15:44:26.814490",
     "status": "completed"
    },
    "tags": []
   },
   "outputs": [
    {
     "name": "stdout",
     "output_type": "stream",
     "text": [
      "/kaggle/input/icr-identify-age-related-conditions/sample_submission.csv\n",
      "/kaggle/input/icr-identify-age-related-conditions/greeks.csv\n",
      "/kaggle/input/icr-identify-age-related-conditions/train.csv\n",
      "/kaggle/input/icr-identify-age-related-conditions/test.csv\n"
     ]
    }
   ],
   "source": [
    "# This Python 3 environment comes with many helpful analytics libraries installed\n",
    "# It is defined by the kaggle/python Docker image: https://github.com/kaggle/docker-python\n",
    "# For example, here's several helpful packages to load\n",
    "\n",
    "import numpy as np # linear algebra\n",
    "import pandas as pd # data processing, CSV file I/O (e.g. pd.read_csv)\n",
    "\n",
    "# Input data files are available in the read-only \"../input/\" directory\n",
    "# For example, running this (by clicking run or pressing Shift+Enter) will list all files under the input directory\n",
    "\n",
    "import os\n",
    "for dirname, _, filenames in os.walk('/kaggle/input'):\n",
    "    for filename in filenames:\n",
    "        print(os.path.join(dirname, filename))\n",
    "\n",
    "# You can write up to 20GB to the current directory (/kaggle/working/) that gets preserved as output when you create a version using \"Save & Run All\" \n",
    "# You can also write temporary files to /kaggle/temp/, but they won't be saved outside of the current session"
   ]
  },
  {
   "cell_type": "code",
   "execution_count": 2,
   "id": "6242b917",
   "metadata": {
    "execution": {
     "iopub.execute_input": "2023-05-29T15:44:26.848617Z",
     "iopub.status.busy": "2023-05-29T15:44:26.848290Z",
     "iopub.status.idle": "2023-05-29T15:44:37.390256Z",
     "shell.execute_reply": "2023-05-29T15:44:37.388643Z"
    },
    "papermill": {
     "duration": 10.549943,
     "end_time": "2023-05-29T15:44:37.392851",
     "exception": false,
     "start_time": "2023-05-29T15:44:26.842908",
     "status": "completed"
    },
    "tags": []
   },
   "outputs": [
    {
     "name": "stderr",
     "output_type": "stream",
     "text": [
      "/opt/conda/lib/python3.10/site-packages/scipy/__init__.py:146: UserWarning: A NumPy version >=1.16.5 and <1.23.0 is required for this version of SciPy (detected version 1.23.5\n",
      "  warnings.warn(f\"A NumPy version >={np_minversion} and <{np_maxversion}\"\n"
     ]
    }
   ],
   "source": [
    "import numpy as np\n",
    "import pandas as pd\n",
    "from sklearn.model_selection import train_test_split\n",
    "from sklearn.preprocessing import OneHotEncoder\n",
    "import tensorflow as tf\n",
    "import os"
   ]
  },
  {
   "cell_type": "code",
   "execution_count": 3,
   "id": "ab36d028",
   "metadata": {
    "execution": {
     "iopub.execute_input": "2023-05-29T15:44:37.402681Z",
     "iopub.status.busy": "2023-05-29T15:44:37.401982Z",
     "iopub.status.idle": "2023-05-29T15:44:37.441952Z",
     "shell.execute_reply": "2023-05-29T15:44:37.440052Z"
    },
    "papermill": {
     "duration": 0.047848,
     "end_time": "2023-05-29T15:44:37.444781",
     "exception": false,
     "start_time": "2023-05-29T15:44:37.396933",
     "status": "completed"
    },
    "tags": []
   },
   "outputs": [],
   "source": [
    "train_data = pd.read_csv('/kaggle/input/icr-identify-age-related-conditions/train.csv')\n",
    "test_data = pd.read_csv('/kaggle/input/icr-identify-age-related-conditions/test.csv')"
   ]
  },
  {
   "cell_type": "code",
   "execution_count": 4,
   "id": "2e4a2b14",
   "metadata": {
    "execution": {
     "iopub.execute_input": "2023-05-29T15:44:37.454832Z",
     "iopub.status.busy": "2023-05-29T15:44:37.454441Z",
     "iopub.status.idle": "2023-05-29T15:44:37.483788Z",
     "shell.execute_reply": "2023-05-29T15:44:37.482416Z"
    },
    "papermill": {
     "duration": 0.03743,
     "end_time": "2023-05-29T15:44:37.486454",
     "exception": false,
     "start_time": "2023-05-29T15:44:37.449024",
     "status": "completed"
    },
    "tags": []
   },
   "outputs": [],
   "source": [
    "train_data = train_data[train_data['BQ'].notna()]\n",
    "\n",
    "train_data['EL'].fillna(train_data['EL'].mean(), inplace=True)\n",
    "train_data['CC'].fillna(train_data['CC'].mean(), inplace=True)\n",
    "train_data.CB.fillna(train_data.CB.median(), inplace=True)\n",
    "train_data.FS.fillna(train_data.FS.median(), inplace=True)\n",
    "train_data.FC.fillna(train_data.FC.median(), inplace=True)\n",
    "\n",
    "train_data.reset_index(inplace=True)\n",
    "train_data.drop('index', axis=1, inplace=True)"
   ]
  },
  {
   "cell_type": "code",
   "execution_count": 5,
   "id": "9a8cb03f",
   "metadata": {
    "execution": {
     "iopub.execute_input": "2023-05-29T15:44:37.495931Z",
     "iopub.status.busy": "2023-05-29T15:44:37.495554Z",
     "iopub.status.idle": "2023-05-29T15:44:37.505534Z",
     "shell.execute_reply": "2023-05-29T15:44:37.504765Z"
    },
    "papermill": {
     "duration": 0.017293,
     "end_time": "2023-05-29T15:44:37.507830",
     "exception": false,
     "start_time": "2023-05-29T15:44:37.490537",
     "status": "completed"
    },
    "tags": []
   },
   "outputs": [],
   "source": [
    "X = train_data.drop(['Id', 'Class'], axis=1)\n",
    "y = train_data.drop(X.columns, axis=1).drop(['Id'], axis=1)\n",
    "y_class0 = pd.DataFrame(np.logical_xor(y['Class'].values, 1).astype(int), columns=[\"Class1\"], index=y.index)\n",
    "y = pd.concat([y, y_class0], axis=1)"
   ]
  },
  {
   "cell_type": "code",
   "execution_count": 6,
   "id": "29f979cb",
   "metadata": {
    "execution": {
     "iopub.execute_input": "2023-05-29T15:44:37.517328Z",
     "iopub.status.busy": "2023-05-29T15:44:37.516920Z",
     "iopub.status.idle": "2023-05-29T15:44:37.534718Z",
     "shell.execute_reply": "2023-05-29T15:44:37.533188Z"
    },
    "papermill": {
     "duration": 0.024704,
     "end_time": "2023-05-29T15:44:37.536672",
     "exception": false,
     "start_time": "2023-05-29T15:44:37.511968",
     "status": "completed"
    },
    "tags": []
   },
   "outputs": [
    {
     "name": "stderr",
     "output_type": "stream",
     "text": [
      "/opt/conda/lib/python3.10/site-packages/sklearn/preprocessing/_encoders.py:868: FutureWarning: `sparse` was renamed to `sparse_output` in version 1.2 and will be removed in 1.4. `sparse_output` is ignored unless you leave `sparse` to its default value.\n",
      "  warnings.warn(\n"
     ]
    }
   ],
   "source": [
    "one_hot_encoder = OneHotEncoder(drop='first', sparse=False)\n",
    "one_hot_encoder.fit(X['EJ'].unique().reshape(-1,1))\n",
    "X['EJ'] = pd.DataFrame(one_hot_encoder.transform(X['EJ'].to_numpy().reshape(-1,1)))"
   ]
  },
  {
   "cell_type": "code",
   "execution_count": 7,
   "id": "a13b670f",
   "metadata": {
    "execution": {
     "iopub.execute_input": "2023-05-29T15:44:37.546310Z",
     "iopub.status.busy": "2023-05-29T15:44:37.545911Z",
     "iopub.status.idle": "2023-05-29T15:44:37.554324Z",
     "shell.execute_reply": "2023-05-29T15:44:37.553291Z"
    },
    "papermill": {
     "duration": 0.015884,
     "end_time": "2023-05-29T15:44:37.556528",
     "exception": false,
     "start_time": "2023-05-29T15:44:37.540644",
     "status": "completed"
    },
    "tags": []
   },
   "outputs": [
    {
     "name": "stdout",
     "output_type": "stream",
     "text": [
      "(445, 56) (112, 56) (445, 2) (112, 2)\n"
     ]
    }
   ],
   "source": [
    "X_train, X_test, y_train, y_test = train_test_split(X, y, test_size=0.2, random_state=1)\n",
    "print(X_train.shape, X_test.shape, y_train.shape, y_test.shape)"
   ]
  },
  {
   "cell_type": "code",
   "execution_count": 8,
   "id": "a83fb4a4",
   "metadata": {
    "execution": {
     "iopub.execute_input": "2023-05-29T15:44:37.566280Z",
     "iopub.status.busy": "2023-05-29T15:44:37.565883Z",
     "iopub.status.idle": "2023-05-29T15:44:37.575763Z",
     "shell.execute_reply": "2023-05-29T15:44:37.574895Z"
    },
    "papermill": {
     "duration": 0.017443,
     "end_time": "2023-05-29T15:44:37.578023",
     "exception": false,
     "start_time": "2023-05-29T15:44:37.560580",
     "status": "completed"
    },
    "tags": []
   },
   "outputs": [],
   "source": [
    "class WideAndDeepModel(tf.keras.Model):\n",
    "    def __init__(self, units=256, activation='relu', **kwargs):\n",
    "        super().__init__(**kwargs)\n",
    "        rate = 0.3\n",
    "        self.norm_layer_wide = tf.keras.layers.Normalization()\n",
    "        self.norm_layer_deep = tf.keras.layers.Normalization()\n",
    "        self.dropout1 = tf.keras.layers.Dropout(rate=rate)\n",
    "        self.dropout2 = tf.keras.layers.Dropout(rate=rate)\n",
    "        self.hidden1 = tf.keras.layers.Dense(units, activation=activation, \n",
    "                                             kernel_initializer='he_normal', \n",
    "                                             )\n",
    "        self.dropout3 = tf.keras.layers.Dropout(rate=rate)\n",
    "        self.hidden2 = tf.keras.layers.Dense(units, activation=activation, \n",
    "                                             kernel_initializer='he_normal', \n",
    "                                             )\n",
    "        self.dropout4 = tf.keras.layers.Dropout(rate=rate)\n",
    "        # self.hidden3 = tf.keras.layers.Dense(units, activation=activation, \n",
    "        #                                      kernel_initializer='he_normal', \n",
    "        #                                      )\n",
    "        # self.dropout5 = tf.keras.layers.Dropout(rate=0.2)\n",
    "        self.output_ = tf.keras.layers.Dense(2, kernel_initializer='he_normal', \n",
    "                                             activation=\"sigmoid\")\n",
    "        \n",
    "    def call(self, inputs):\n",
    "        input_ = inputs\n",
    "        # rate=0.2\n",
    "        norm_wide = self.norm_layer_wide(input_)\n",
    "        norm_deep = self.norm_layer_deep(input_)\n",
    "        dropout1 = self.dropout1(norm_wide)\n",
    "        dropout2 = self.dropout2(norm_deep)\n",
    "        hidden1 = self.hidden1(dropout2)\n",
    "        dropout3 = self.dropout3(hidden1)\n",
    "        hidden2 = self.hidden2(dropout3)\n",
    "        dropout4 = self.dropout4(hidden2)\n",
    "        # hidden3 = self.hidden2(dropout4)\n",
    "        # dropout5 = self.dropout4(hidden3)\n",
    "        concat = tf.keras.layers.concatenate([dropout1, dropout4])\n",
    "        output = self.output_(concat)\n",
    "        return output"
   ]
  },
  {
   "cell_type": "code",
   "execution_count": 9,
   "id": "988ecdcd",
   "metadata": {
    "execution": {
     "iopub.execute_input": "2023-05-29T15:44:37.587725Z",
     "iopub.status.busy": "2023-05-29T15:44:37.587328Z",
     "iopub.status.idle": "2023-05-29T15:44:38.445862Z",
     "shell.execute_reply": "2023-05-29T15:44:38.444691Z"
    },
    "papermill": {
     "duration": 0.866078,
     "end_time": "2023-05-29T15:44:38.448278",
     "exception": false,
     "start_time": "2023-05-29T15:44:37.582200",
     "status": "completed"
    },
    "tags": []
   },
   "outputs": [],
   "source": [
    "model = WideAndDeepModel(units=256, activation=\"relu\")\n",
    "model.call(X_train)\n",
    "optimizer = tf.keras.optimizers.Adam(learning_rate=1e-3)\n",
    "model.compile(loss = 'binary_crossentropy', optimizer=optimizer, metrics=[\"accuracy\"])\n",
    "model.norm_layer_wide.adapt(X_train)\n",
    "model.norm_layer_deep.adapt(X_train)"
   ]
  },
  {
   "cell_type": "code",
   "execution_count": 10,
   "id": "b342942b",
   "metadata": {
    "execution": {
     "iopub.execute_input": "2023-05-29T15:44:38.459024Z",
     "iopub.status.busy": "2023-05-29T15:44:38.457836Z",
     "iopub.status.idle": "2023-05-29T15:44:38.464940Z",
     "shell.execute_reply": "2023-05-29T15:44:38.463528Z"
    },
    "papermill": {
     "duration": 0.014758,
     "end_time": "2023-05-29T15:44:38.467341",
     "exception": false,
     "start_time": "2023-05-29T15:44:38.452583",
     "status": "completed"
    },
    "tags": []
   },
   "outputs": [],
   "source": [
    "checkpoint_cb = tf.keras.callbacks.ModelCheckpoint('Checkpoint', save_weights_only=True)\n",
    "earlystopping_cb = tf.keras.callbacks.EarlyStopping(patience=100, restore_best_weights=True)\n",
    "# tfboard_cb = tf.keras.callbacks.TensorBoard(run_logdir)\n",
    "\n",
    "# callbacks = [checkpoint_cb, earlystopping_cb, tfboard_cb]\n",
    "callbacks = [checkpoint_cb, earlystopping_cb]"
   ]
  },
  {
   "cell_type": "code",
   "execution_count": 11,
   "id": "1b26fc0f",
   "metadata": {
    "execution": {
     "iopub.execute_input": "2023-05-29T15:44:38.477888Z",
     "iopub.status.busy": "2023-05-29T15:44:38.477493Z",
     "iopub.status.idle": "2023-05-29T15:44:58.205160Z",
     "shell.execute_reply": "2023-05-29T15:44:58.204123Z"
    },
    "papermill": {
     "duration": 19.735553,
     "end_time": "2023-05-29T15:44:58.207555",
     "exception": false,
     "start_time": "2023-05-29T15:44:38.472002",
     "status": "completed"
    },
    "tags": []
   },
   "outputs": [
    {
     "name": "stdout",
     "output_type": "stream",
     "text": [
      "Epoch 1/2050\n",
      "25/25 [==============================] - 1s 15ms/step - loss: 0.7185 - accuracy: 0.7675 - val_loss: 0.3683 - val_accuracy: 0.8667\n",
      "Epoch 2/2050\n",
      "25/25 [==============================] - 0s 5ms/step - loss: 0.4510 - accuracy: 0.8700 - val_loss: 0.3055 - val_accuracy: 0.8667\n",
      "Epoch 3/2050\n",
      "25/25 [==============================] - 0s 5ms/step - loss: 0.3631 - accuracy: 0.8625 - val_loss: 0.2880 - val_accuracy: 0.8889\n",
      "Epoch 4/2050\n",
      "25/25 [==============================] - 0s 5ms/step - loss: 0.3545 - accuracy: 0.8725 - val_loss: 0.3277 - val_accuracy: 0.8667\n",
      "Epoch 5/2050\n",
      "25/25 [==============================] - 0s 5ms/step - loss: 0.3070 - accuracy: 0.8825 - val_loss: 0.3064 - val_accuracy: 0.8889\n",
      "Epoch 6/2050\n",
      "25/25 [==============================] - 0s 5ms/step - loss: 0.2959 - accuracy: 0.8850 - val_loss: 0.2865 - val_accuracy: 0.8889\n",
      "Epoch 7/2050\n",
      "25/25 [==============================] - 0s 5ms/step - loss: 0.2298 - accuracy: 0.9175 - val_loss: 0.3349 - val_accuracy: 0.8889\n",
      "Epoch 8/2050\n",
      "25/25 [==============================] - 0s 14ms/step - loss: 0.2946 - accuracy: 0.9075 - val_loss: 0.3304 - val_accuracy: 0.8889\n",
      "Epoch 9/2050\n",
      "25/25 [==============================] - 0s 5ms/step - loss: 0.2439 - accuracy: 0.9050 - val_loss: 0.3697 - val_accuracy: 0.8889\n",
      "Epoch 10/2050\n",
      "25/25 [==============================] - 0s 5ms/step - loss: 0.2464 - accuracy: 0.9025 - val_loss: 0.3205 - val_accuracy: 0.9111\n",
      "Epoch 11/2050\n",
      "25/25 [==============================] - 0s 5ms/step - loss: 0.2135 - accuracy: 0.9200 - val_loss: 0.3424 - val_accuracy: 0.8889\n",
      "Epoch 12/2050\n",
      "25/25 [==============================] - 0s 5ms/step - loss: 0.1979 - accuracy: 0.9225 - val_loss: 0.3697 - val_accuracy: 0.8889\n",
      "Epoch 13/2050\n",
      "25/25 [==============================] - 0s 5ms/step - loss: 0.1909 - accuracy: 0.9400 - val_loss: 0.3162 - val_accuracy: 0.9111\n",
      "Epoch 14/2050\n",
      "25/25 [==============================] - 0s 5ms/step - loss: 0.2002 - accuracy: 0.9325 - val_loss: 0.3792 - val_accuracy: 0.8889\n",
      "Epoch 15/2050\n",
      "25/25 [==============================] - 0s 5ms/step - loss: 0.2386 - accuracy: 0.9100 - val_loss: 0.3225 - val_accuracy: 0.8667\n",
      "Epoch 16/2050\n",
      "25/25 [==============================] - 0s 5ms/step - loss: 0.2061 - accuracy: 0.9225 - val_loss: 0.3027 - val_accuracy: 0.8889\n",
      "Epoch 17/2050\n",
      "25/25 [==============================] - 0s 5ms/step - loss: 0.1866 - accuracy: 0.9275 - val_loss: 0.2725 - val_accuracy: 0.8889\n",
      "Epoch 18/2050\n",
      "25/25 [==============================] - 0s 5ms/step - loss: 0.1634 - accuracy: 0.9375 - val_loss: 0.2885 - val_accuracy: 0.8889\n",
      "Epoch 19/2050\n",
      "25/25 [==============================] - 0s 5ms/step - loss: 0.1923 - accuracy: 0.9375 - val_loss: 0.3052 - val_accuracy: 0.9111\n",
      "Epoch 20/2050\n",
      "25/25 [==============================] - 0s 5ms/step - loss: 0.1970 - accuracy: 0.9350 - val_loss: 0.3369 - val_accuracy: 0.9111\n",
      "Epoch 21/2050\n",
      "25/25 [==============================] - 0s 5ms/step - loss: 0.1825 - accuracy: 0.9300 - val_loss: 0.2809 - val_accuracy: 0.8889\n",
      "Epoch 22/2050\n",
      "25/25 [==============================] - 0s 5ms/step - loss: 0.1775 - accuracy: 0.9300 - val_loss: 0.3317 - val_accuracy: 0.8889\n",
      "Epoch 23/2050\n",
      "25/25 [==============================] - 0s 5ms/step - loss: 0.1563 - accuracy: 0.9425 - val_loss: 0.3420 - val_accuracy: 0.8889\n",
      "Epoch 24/2050\n",
      "25/25 [==============================] - 0s 6ms/step - loss: 0.1725 - accuracy: 0.9375 - val_loss: 0.2601 - val_accuracy: 0.9111\n",
      "Epoch 25/2050\n",
      "25/25 [==============================] - 0s 5ms/step - loss: 0.1555 - accuracy: 0.9350 - val_loss: 0.2525 - val_accuracy: 0.9111\n",
      "Epoch 26/2050\n",
      "25/25 [==============================] - 0s 5ms/step - loss: 0.1073 - accuracy: 0.9625 - val_loss: 0.2515 - val_accuracy: 0.9111\n",
      "Epoch 27/2050\n",
      "25/25 [==============================] - 0s 5ms/step - loss: 0.1540 - accuracy: 0.9475 - val_loss: 0.2508 - val_accuracy: 0.9111\n",
      "Epoch 28/2050\n",
      "25/25 [==============================] - 0s 5ms/step - loss: 0.1428 - accuracy: 0.9650 - val_loss: 0.2624 - val_accuracy: 0.9111\n",
      "Epoch 29/2050\n",
      "25/25 [==============================] - 0s 5ms/step - loss: 0.1491 - accuracy: 0.9500 - val_loss: 0.2692 - val_accuracy: 0.9111\n",
      "Epoch 30/2050\n",
      "25/25 [==============================] - 0s 5ms/step - loss: 0.1120 - accuracy: 0.9650 - val_loss: 0.2912 - val_accuracy: 0.9111\n",
      "Epoch 31/2050\n",
      "25/25 [==============================] - 0s 5ms/step - loss: 0.1074 - accuracy: 0.9525 - val_loss: 0.2618 - val_accuracy: 0.9111\n",
      "Epoch 32/2050\n",
      "25/25 [==============================] - 0s 6ms/step - loss: 0.1271 - accuracy: 0.9425 - val_loss: 0.2819 - val_accuracy: 0.8889\n",
      "Epoch 33/2050\n",
      "25/25 [==============================] - 0s 5ms/step - loss: 0.0945 - accuracy: 0.9600 - val_loss: 0.2708 - val_accuracy: 0.9111\n",
      "Epoch 34/2050\n",
      "25/25 [==============================] - 0s 5ms/step - loss: 0.1187 - accuracy: 0.9550 - val_loss: 0.2585 - val_accuracy: 0.9111\n",
      "Epoch 35/2050\n",
      "25/25 [==============================] - 0s 6ms/step - loss: 0.1003 - accuracy: 0.9600 - val_loss: 0.2876 - val_accuracy: 0.9111\n",
      "Epoch 36/2050\n",
      "25/25 [==============================] - 0s 5ms/step - loss: 0.1278 - accuracy: 0.9525 - val_loss: 0.2899 - val_accuracy: 0.8889\n",
      "Epoch 37/2050\n",
      "25/25 [==============================] - 0s 5ms/step - loss: 0.1151 - accuracy: 0.9525 - val_loss: 0.3015 - val_accuracy: 0.9111\n",
      "Epoch 38/2050\n",
      "25/25 [==============================] - 0s 5ms/step - loss: 0.1104 - accuracy: 0.9625 - val_loss: 0.3025 - val_accuracy: 0.9111\n",
      "Epoch 39/2050\n",
      "25/25 [==============================] - 0s 5ms/step - loss: 0.1028 - accuracy: 0.9650 - val_loss: 0.2690 - val_accuracy: 0.9111\n",
      "Epoch 40/2050\n",
      "25/25 [==============================] - 0s 5ms/step - loss: 0.0909 - accuracy: 0.9700 - val_loss: 0.2887 - val_accuracy: 0.9111\n",
      "Epoch 41/2050\n",
      "25/25 [==============================] - 0s 5ms/step - loss: 0.1016 - accuracy: 0.9600 - val_loss: 0.2389 - val_accuracy: 0.8889\n",
      "Epoch 42/2050\n",
      "25/25 [==============================] - 0s 5ms/step - loss: 0.0843 - accuracy: 0.9700 - val_loss: 0.2524 - val_accuracy: 0.9333\n",
      "Epoch 43/2050\n",
      "25/25 [==============================] - 0s 5ms/step - loss: 0.0876 - accuracy: 0.9725 - val_loss: 0.2490 - val_accuracy: 0.8889\n",
      "Epoch 44/2050\n",
      "25/25 [==============================] - 0s 5ms/step - loss: 0.1163 - accuracy: 0.9600 - val_loss: 0.2737 - val_accuracy: 0.9333\n",
      "Epoch 45/2050\n",
      "25/25 [==============================] - 0s 5ms/step - loss: 0.1059 - accuracy: 0.9650 - val_loss: 0.2500 - val_accuracy: 0.8889\n",
      "Epoch 46/2050\n",
      "25/25 [==============================] - 0s 6ms/step - loss: 0.1119 - accuracy: 0.9575 - val_loss: 0.2733 - val_accuracy: 0.8889\n",
      "Epoch 47/2050\n",
      "25/25 [==============================] - 0s 5ms/step - loss: 0.0828 - accuracy: 0.9625 - val_loss: 0.2757 - val_accuracy: 0.9111\n",
      "Epoch 48/2050\n",
      "25/25 [==============================] - 0s 5ms/step - loss: 0.1295 - accuracy: 0.9525 - val_loss: 0.2650 - val_accuracy: 0.9111\n",
      "Epoch 49/2050\n",
      "25/25 [==============================] - 0s 5ms/step - loss: 0.0713 - accuracy: 0.9700 - val_loss: 0.2555 - val_accuracy: 0.9111\n",
      "Epoch 50/2050\n",
      "25/25 [==============================] - 0s 5ms/step - loss: 0.0806 - accuracy: 0.9700 - val_loss: 0.2878 - val_accuracy: 0.9111\n",
      "Epoch 51/2050\n",
      "25/25 [==============================] - 0s 5ms/step - loss: 0.0683 - accuracy: 0.9750 - val_loss: 0.3088 - val_accuracy: 0.9333\n",
      "Epoch 52/2050\n",
      "25/25 [==============================] - 0s 5ms/step - loss: 0.0825 - accuracy: 0.9600 - val_loss: 0.2888 - val_accuracy: 0.8889\n",
      "Epoch 53/2050\n",
      "25/25 [==============================] - 0s 5ms/step - loss: 0.0629 - accuracy: 0.9725 - val_loss: 0.2859 - val_accuracy: 0.8889\n",
      "Epoch 54/2050\n",
      "25/25 [==============================] - 0s 5ms/step - loss: 0.0710 - accuracy: 0.9700 - val_loss: 0.2811 - val_accuracy: 0.9333\n",
      "Epoch 55/2050\n",
      "25/25 [==============================] - 0s 5ms/step - loss: 0.1137 - accuracy: 0.9625 - val_loss: 0.2996 - val_accuracy: 0.9333\n",
      "Epoch 56/2050\n",
      "25/25 [==============================] - 0s 5ms/step - loss: 0.0713 - accuracy: 0.9725 - val_loss: 0.2861 - val_accuracy: 0.9333\n",
      "Epoch 57/2050\n",
      "25/25 [==============================] - 0s 5ms/step - loss: 0.0655 - accuracy: 0.9825 - val_loss: 0.3015 - val_accuracy: 0.8889\n",
      "Epoch 58/2050\n",
      "25/25 [==============================] - 0s 5ms/step - loss: 0.0779 - accuracy: 0.9700 - val_loss: 0.3057 - val_accuracy: 0.9333\n",
      "Epoch 59/2050\n",
      "25/25 [==============================] - 0s 5ms/step - loss: 0.0964 - accuracy: 0.9675 - val_loss: 0.2997 - val_accuracy: 0.8889\n",
      "Epoch 60/2050\n",
      "25/25 [==============================] - 0s 5ms/step - loss: 0.0778 - accuracy: 0.9725 - val_loss: 0.3199 - val_accuracy: 0.9333\n",
      "Epoch 61/2050\n",
      "25/25 [==============================] - 0s 5ms/step - loss: 0.0595 - accuracy: 0.9800 - val_loss: 0.3408 - val_accuracy: 0.8889\n",
      "Epoch 62/2050\n",
      "25/25 [==============================] - 0s 5ms/step - loss: 0.0840 - accuracy: 0.9750 - val_loss: 0.3717 - val_accuracy: 0.9111\n",
      "Epoch 63/2050\n",
      "25/25 [==============================] - 0s 5ms/step - loss: 0.0854 - accuracy: 0.9700 - val_loss: 0.3056 - val_accuracy: 0.9111\n",
      "Epoch 64/2050\n",
      "25/25 [==============================] - 0s 5ms/step - loss: 0.0684 - accuracy: 0.9775 - val_loss: 0.3148 - val_accuracy: 0.8889\n",
      "Epoch 65/2050\n",
      "25/25 [==============================] - 0s 5ms/step - loss: 0.0698 - accuracy: 0.9750 - val_loss: 0.3174 - val_accuracy: 0.8889\n",
      "Epoch 66/2050\n",
      "25/25 [==============================] - 0s 6ms/step - loss: 0.0866 - accuracy: 0.9650 - val_loss: 0.3822 - val_accuracy: 0.9111\n",
      "Epoch 67/2050\n",
      "25/25 [==============================] - 0s 5ms/step - loss: 0.0804 - accuracy: 0.9700 - val_loss: 0.3523 - val_accuracy: 0.9111\n",
      "Epoch 68/2050\n",
      "25/25 [==============================] - 0s 5ms/step - loss: 0.0733 - accuracy: 0.9725 - val_loss: 0.3660 - val_accuracy: 0.9111\n",
      "Epoch 69/2050\n",
      "25/25 [==============================] - 0s 6ms/step - loss: 0.0586 - accuracy: 0.9775 - val_loss: 0.3113 - val_accuracy: 0.9111\n",
      "Epoch 70/2050\n",
      "25/25 [==============================] - 0s 5ms/step - loss: 0.0821 - accuracy: 0.9700 - val_loss: 0.3230 - val_accuracy: 0.9111\n",
      "Epoch 71/2050\n",
      "25/25 [==============================] - 0s 5ms/step - loss: 0.0743 - accuracy: 0.9750 - val_loss: 0.3295 - val_accuracy: 0.9111\n",
      "Epoch 72/2050\n",
      "25/25 [==============================] - 0s 5ms/step - loss: 0.0823 - accuracy: 0.9675 - val_loss: 0.3220 - val_accuracy: 0.9111\n",
      "Epoch 73/2050\n",
      "25/25 [==============================] - 0s 5ms/step - loss: 0.0721 - accuracy: 0.9750 - val_loss: 0.3501 - val_accuracy: 0.9111\n",
      "Epoch 74/2050\n",
      "25/25 [==============================] - 0s 5ms/step - loss: 0.0573 - accuracy: 0.9750 - val_loss: 0.3260 - val_accuracy: 0.9111\n",
      "Epoch 75/2050\n",
      "25/25 [==============================] - 0s 5ms/step - loss: 0.0611 - accuracy: 0.9750 - val_loss: 0.3170 - val_accuracy: 0.9111\n",
      "Epoch 76/2050\n",
      "25/25 [==============================] - 0s 5ms/step - loss: 0.0489 - accuracy: 0.9775 - val_loss: 0.3339 - val_accuracy: 0.9333\n",
      "Epoch 77/2050\n",
      "25/25 [==============================] - 0s 5ms/step - loss: 0.0757 - accuracy: 0.9725 - val_loss: 0.3100 - val_accuracy: 0.9333\n",
      "Epoch 78/2050\n",
      "25/25 [==============================] - 0s 5ms/step - loss: 0.0521 - accuracy: 0.9750 - val_loss: 0.2891 - val_accuracy: 0.9333\n",
      "Epoch 79/2050\n",
      "25/25 [==============================] - 0s 5ms/step - loss: 0.0529 - accuracy: 0.9775 - val_loss: 0.3017 - val_accuracy: 0.9333\n",
      "Epoch 80/2050\n",
      "25/25 [==============================] - 0s 5ms/step - loss: 0.0602 - accuracy: 0.9750 - val_loss: 0.2947 - val_accuracy: 0.9111\n",
      "Epoch 81/2050\n",
      "25/25 [==============================] - 0s 5ms/step - loss: 0.0832 - accuracy: 0.9600 - val_loss: 0.3414 - val_accuracy: 0.9333\n",
      "Epoch 82/2050\n",
      "25/25 [==============================] - 0s 5ms/step - loss: 0.0872 - accuracy: 0.9675 - val_loss: 0.2853 - val_accuracy: 0.8889\n",
      "Epoch 83/2050\n",
      "25/25 [==============================] - 0s 5ms/step - loss: 0.0738 - accuracy: 0.9675 - val_loss: 0.3044 - val_accuracy: 0.9333\n",
      "Epoch 84/2050\n",
      "25/25 [==============================] - 0s 5ms/step - loss: 0.0654 - accuracy: 0.9725 - val_loss: 0.2888 - val_accuracy: 0.9333\n",
      "Epoch 85/2050\n",
      "25/25 [==============================] - 0s 5ms/step - loss: 0.0480 - accuracy: 0.9800 - val_loss: 0.3367 - val_accuracy: 0.9111\n",
      "Epoch 86/2050\n",
      "25/25 [==============================] - 0s 5ms/step - loss: 0.0605 - accuracy: 0.9700 - val_loss: 0.3150 - val_accuracy: 0.9333\n",
      "Epoch 87/2050\n",
      "25/25 [==============================] - 0s 5ms/step - loss: 0.0762 - accuracy: 0.9775 - val_loss: 0.2961 - val_accuracy: 0.9333\n",
      "Epoch 88/2050\n",
      "25/25 [==============================] - 0s 5ms/step - loss: 0.0645 - accuracy: 0.9750 - val_loss: 0.2903 - val_accuracy: 0.9111\n",
      "Epoch 89/2050\n",
      "25/25 [==============================] - 0s 5ms/step - loss: 0.0550 - accuracy: 0.9800 - val_loss: 0.2877 - val_accuracy: 0.9111\n",
      "Epoch 90/2050\n",
      "25/25 [==============================] - 0s 5ms/step - loss: 0.0630 - accuracy: 0.9850 - val_loss: 0.3086 - val_accuracy: 0.9333\n",
      "Epoch 91/2050\n",
      "25/25 [==============================] - 0s 5ms/step - loss: 0.0659 - accuracy: 0.9700 - val_loss: 0.3003 - val_accuracy: 0.9333\n",
      "Epoch 92/2050\n",
      "25/25 [==============================] - 0s 5ms/step - loss: 0.0601 - accuracy: 0.9775 - val_loss: 0.3135 - val_accuracy: 0.8889\n",
      "Epoch 93/2050\n",
      "25/25 [==============================] - 0s 5ms/step - loss: 0.0663 - accuracy: 0.9750 - val_loss: 0.3197 - val_accuracy: 0.9333\n",
      "Epoch 94/2050\n",
      "25/25 [==============================] - 0s 5ms/step - loss: 0.0553 - accuracy: 0.9725 - val_loss: 0.3012 - val_accuracy: 0.9111\n",
      "Epoch 95/2050\n",
      "25/25 [==============================] - 0s 5ms/step - loss: 0.0582 - accuracy: 0.9825 - val_loss: 0.2939 - val_accuracy: 0.9111\n",
      "Epoch 96/2050\n",
      "25/25 [==============================] - 0s 5ms/step - loss: 0.0531 - accuracy: 0.9825 - val_loss: 0.3488 - val_accuracy: 0.8889\n",
      "Epoch 97/2050\n",
      "25/25 [==============================] - 0s 5ms/step - loss: 0.0334 - accuracy: 0.9950 - val_loss: 0.3661 - val_accuracy: 0.9111\n",
      "Epoch 98/2050\n",
      "25/25 [==============================] - 0s 5ms/step - loss: 0.0449 - accuracy: 0.9800 - val_loss: 0.3233 - val_accuracy: 0.9111\n",
      "Epoch 99/2050\n",
      "25/25 [==============================] - 0s 5ms/step - loss: 0.0278 - accuracy: 0.9900 - val_loss: 0.3115 - val_accuracy: 0.8889\n",
      "Epoch 100/2050\n",
      "25/25 [==============================] - 0s 5ms/step - loss: 0.0340 - accuracy: 0.9925 - val_loss: 0.3334 - val_accuracy: 0.8889\n",
      "Epoch 101/2050\n",
      "25/25 [==============================] - 0s 5ms/step - loss: 0.0556 - accuracy: 0.9825 - val_loss: 0.3289 - val_accuracy: 0.8889\n",
      "Epoch 102/2050\n",
      "25/25 [==============================] - 0s 5ms/step - loss: 0.0308 - accuracy: 0.9950 - val_loss: 0.3409 - val_accuracy: 0.8889\n",
      "Epoch 103/2050\n",
      "25/25 [==============================] - 0s 5ms/step - loss: 0.0392 - accuracy: 0.9850 - val_loss: 0.3201 - val_accuracy: 0.8889\n",
      "Epoch 104/2050\n",
      "25/25 [==============================] - 0s 5ms/step - loss: 0.0328 - accuracy: 0.9875 - val_loss: 0.3153 - val_accuracy: 0.9111\n",
      "Epoch 105/2050\n",
      "25/25 [==============================] - 0s 5ms/step - loss: 0.0483 - accuracy: 0.9775 - val_loss: 0.3597 - val_accuracy: 0.8889\n",
      "Epoch 106/2050\n",
      "25/25 [==============================] - 0s 5ms/step - loss: 0.0415 - accuracy: 0.9850 - val_loss: 0.3795 - val_accuracy: 0.9111\n",
      "Epoch 107/2050\n",
      "25/25 [==============================] - 0s 5ms/step - loss: 0.0753 - accuracy: 0.9775 - val_loss: 0.3242 - val_accuracy: 0.9333\n",
      "Epoch 108/2050\n",
      "25/25 [==============================] - 0s 5ms/step - loss: 0.0850 - accuracy: 0.9600 - val_loss: 0.3117 - val_accuracy: 0.8889\n",
      "Epoch 109/2050\n",
      "25/25 [==============================] - 0s 6ms/step - loss: 0.0378 - accuracy: 0.9825 - val_loss: 0.3666 - val_accuracy: 0.9111\n",
      "Epoch 110/2050\n",
      "25/25 [==============================] - 0s 5ms/step - loss: 0.0282 - accuracy: 0.9900 - val_loss: 0.3363 - val_accuracy: 0.9111\n",
      "Epoch 111/2050\n",
      "25/25 [==============================] - 0s 5ms/step - loss: 0.0270 - accuracy: 0.9900 - val_loss: 0.3274 - val_accuracy: 0.9333\n",
      "Epoch 112/2050\n",
      "25/25 [==============================] - 0s 5ms/step - loss: 0.0595 - accuracy: 0.9825 - val_loss: 0.3927 - val_accuracy: 0.8889\n",
      "Epoch 113/2050\n",
      "25/25 [==============================] - 0s 5ms/step - loss: 0.0437 - accuracy: 0.9800 - val_loss: 0.3751 - val_accuracy: 0.9111\n",
      "Epoch 114/2050\n",
      "25/25 [==============================] - 0s 5ms/step - loss: 0.0540 - accuracy: 0.9850 - val_loss: 0.3910 - val_accuracy: 0.8667\n",
      "Epoch 115/2050\n",
      "25/25 [==============================] - 0s 5ms/step - loss: 0.0477 - accuracy: 0.9775 - val_loss: 0.3847 - val_accuracy: 0.9111\n",
      "Epoch 116/2050\n",
      "25/25 [==============================] - 0s 5ms/step - loss: 0.0449 - accuracy: 0.9850 - val_loss: 0.3998 - val_accuracy: 0.9333\n",
      "Epoch 117/2050\n",
      "25/25 [==============================] - 0s 5ms/step - loss: 0.0528 - accuracy: 0.9775 - val_loss: 0.3263 - val_accuracy: 0.8889\n",
      "Epoch 118/2050\n",
      "25/25 [==============================] - 0s 5ms/step - loss: 0.0307 - accuracy: 0.9900 - val_loss: 0.3258 - val_accuracy: 0.9333\n",
      "Epoch 119/2050\n",
      "25/25 [==============================] - 0s 6ms/step - loss: 0.0373 - accuracy: 0.9800 - val_loss: 0.3341 - val_accuracy: 0.9333\n",
      "Epoch 120/2050\n",
      "25/25 [==============================] - 0s 6ms/step - loss: 0.0310 - accuracy: 0.9875 - val_loss: 0.3097 - val_accuracy: 0.9333\n",
      "Epoch 121/2050\n",
      "25/25 [==============================] - 0s 5ms/step - loss: 0.0361 - accuracy: 0.9875 - val_loss: 0.3244 - val_accuracy: 0.9111\n",
      "Epoch 122/2050\n",
      "25/25 [==============================] - 0s 6ms/step - loss: 0.0635 - accuracy: 0.9725 - val_loss: 0.3309 - val_accuracy: 0.8889\n",
      "Epoch 123/2050\n",
      "25/25 [==============================] - 0s 5ms/step - loss: 0.0328 - accuracy: 0.9900 - val_loss: 0.3050 - val_accuracy: 0.9111\n",
      "Epoch 124/2050\n",
      "25/25 [==============================] - 0s 5ms/step - loss: 0.0362 - accuracy: 0.9875 - val_loss: 0.3330 - val_accuracy: 0.9111\n",
      "Epoch 125/2050\n",
      "25/25 [==============================] - 0s 5ms/step - loss: 0.0202 - accuracy: 0.9925 - val_loss: 0.3705 - val_accuracy: 0.9333\n",
      "Epoch 126/2050\n",
      "25/25 [==============================] - 0s 5ms/step - loss: 0.0374 - accuracy: 0.9875 - val_loss: 0.3512 - val_accuracy: 0.9333\n",
      "Epoch 127/2050\n",
      "25/25 [==============================] - 0s 6ms/step - loss: 0.0257 - accuracy: 0.9975 - val_loss: 0.3660 - val_accuracy: 0.9333\n",
      "Epoch 128/2050\n",
      "25/25 [==============================] - 0s 6ms/step - loss: 0.0442 - accuracy: 0.9850 - val_loss: 0.2789 - val_accuracy: 0.8889\n",
      "Epoch 129/2050\n",
      "25/25 [==============================] - 0s 5ms/step - loss: 0.0408 - accuracy: 0.9825 - val_loss: 0.3247 - val_accuracy: 0.9333\n",
      "Epoch 130/2050\n",
      "25/25 [==============================] - 0s 5ms/step - loss: 0.0373 - accuracy: 0.9825 - val_loss: 0.3524 - val_accuracy: 0.9333\n",
      "Epoch 131/2050\n",
      "25/25 [==============================] - 0s 5ms/step - loss: 0.0380 - accuracy: 0.9900 - val_loss: 0.3449 - val_accuracy: 0.9111\n",
      "Epoch 132/2050\n",
      "25/25 [==============================] - 0s 5ms/step - loss: 0.0367 - accuracy: 0.9875 - val_loss: 0.3350 - val_accuracy: 0.9111\n",
      "Epoch 133/2050\n",
      "25/25 [==============================] - 0s 5ms/step - loss: 0.0397 - accuracy: 0.9800 - val_loss: 0.3284 - val_accuracy: 0.9111\n",
      "Epoch 134/2050\n",
      "25/25 [==============================] - 0s 5ms/step - loss: 0.0417 - accuracy: 0.9875 - val_loss: 0.4146 - val_accuracy: 0.9333\n",
      "Epoch 135/2050\n",
      "25/25 [==============================] - 0s 5ms/step - loss: 0.0183 - accuracy: 0.9925 - val_loss: 0.4084 - val_accuracy: 0.9333\n",
      "Epoch 136/2050\n",
      "25/25 [==============================] - 0s 5ms/step - loss: 0.0421 - accuracy: 0.9900 - val_loss: 0.3978 - val_accuracy: 0.9111\n",
      "Epoch 137/2050\n",
      "25/25 [==============================] - 0s 5ms/step - loss: 0.0488 - accuracy: 0.9825 - val_loss: 0.3695 - val_accuracy: 0.9111\n",
      "Epoch 138/2050\n",
      "25/25 [==============================] - 0s 6ms/step - loss: 0.0668 - accuracy: 0.9800 - val_loss: 0.3640 - val_accuracy: 0.9111\n",
      "Epoch 139/2050\n",
      "25/25 [==============================] - 0s 5ms/step - loss: 0.0341 - accuracy: 0.9875 - val_loss: 0.3420 - val_accuracy: 0.9111\n",
      "Epoch 140/2050\n",
      "25/25 [==============================] - 0s 5ms/step - loss: 0.0455 - accuracy: 0.9850 - val_loss: 0.3716 - val_accuracy: 0.9111\n",
      "Epoch 141/2050\n",
      "25/25 [==============================] - 0s 6ms/step - loss: 0.0404 - accuracy: 0.9900 - val_loss: 0.3445 - val_accuracy: 0.9111\n"
     ]
    },
    {
     "data": {
      "text/plain": [
       "<keras.callbacks.History at 0x7dcac43a6e60>"
      ]
     },
     "execution_count": 11,
     "metadata": {},
     "output_type": "execute_result"
    }
   ],
   "source": [
    "# tf.keras.backend.set_value(model.optimizer.learning_rate, 1e-3)\n",
    "model.fit(X_train, y_train, epochs=2050, initial_epoch=0, batch_size=16, validation_split=0.1, callbacks=callbacks)"
   ]
  },
  {
   "cell_type": "code",
   "execution_count": 12,
   "id": "0d9d54d7",
   "metadata": {
    "execution": {
     "iopub.execute_input": "2023-05-29T15:44:58.282528Z",
     "iopub.status.busy": "2023-05-29T15:44:58.281816Z",
     "iopub.status.idle": "2023-05-29T15:44:59.951010Z",
     "shell.execute_reply": "2023-05-29T15:44:59.949584Z"
    },
    "papermill": {
     "duration": 1.710013,
     "end_time": "2023-05-29T15:44:59.953523",
     "exception": false,
     "start_time": "2023-05-29T15:44:58.243510",
     "status": "completed"
    },
    "tags": []
   },
   "outputs": [
    {
     "name": "stdout",
     "output_type": "stream",
     "text": [
      "4/4 [==============================] - 0s 2ms/step - loss: 0.4179 - accuracy: 0.9196\n"
     ]
    },
    {
     "data": {
      "text/plain": [
       "[0.4179363250732422, 0.9196428656578064]"
      ]
     },
     "execution_count": 12,
     "metadata": {},
     "output_type": "execute_result"
    }
   ],
   "source": [
    "model.evaluate(X_test, y_test)"
   ]
  },
  {
   "cell_type": "code",
   "execution_count": 13,
   "id": "03f7ec22",
   "metadata": {
    "execution": {
     "iopub.execute_input": "2023-05-29T15:45:00.026497Z",
     "iopub.status.busy": "2023-05-29T15:45:00.026100Z",
     "iopub.status.idle": "2023-05-29T15:45:00.038884Z",
     "shell.execute_reply": "2023-05-29T15:45:00.037598Z"
    },
    "papermill": {
     "duration": 0.0525,
     "end_time": "2023-05-29T15:45:00.041572",
     "exception": false,
     "start_time": "2023-05-29T15:44:59.989072",
     "status": "completed"
    },
    "tags": []
   },
   "outputs": [],
   "source": [
    "test_data = pd.read_csv('/kaggle/input/icr-identify-age-related-conditions/test.csv')\n",
    "X1 = test_data\n",
    "X1['EJ'] = pd.DataFrame(one_hot_encoder.transform(X1['EJ'].to_numpy().reshape(-1,1)))\n",
    "columns = X.columns"
   ]
  },
  {
   "cell_type": "code",
   "execution_count": 14,
   "id": "379d6c69",
   "metadata": {
    "execution": {
     "iopub.execute_input": "2023-05-29T15:45:00.115027Z",
     "iopub.status.busy": "2023-05-29T15:45:00.114683Z",
     "iopub.status.idle": "2023-05-29T15:45:00.144173Z",
     "shell.execute_reply": "2023-05-29T15:45:00.142757Z"
    },
    "papermill": {
     "duration": 0.068901,
     "end_time": "2023-05-29T15:45:00.146767",
     "exception": false,
     "start_time": "2023-05-29T15:45:00.077866",
     "status": "completed"
    },
    "tags": []
   },
   "outputs": [],
   "source": [
    "for column in columns:\n",
    "    X1[column].fillna(X1[column].median(), inplace=True)"
   ]
  },
  {
   "cell_type": "code",
   "execution_count": 15,
   "id": "f765701e",
   "metadata": {
    "execution": {
     "iopub.execute_input": "2023-05-29T15:45:00.219846Z",
     "iopub.status.busy": "2023-05-29T15:45:00.219485Z",
     "iopub.status.idle": "2023-05-29T15:45:00.384912Z",
     "shell.execute_reply": "2023-05-29T15:45:00.383248Z"
    },
    "papermill": {
     "duration": 0.205126,
     "end_time": "2023-05-29T15:45:00.387874",
     "exception": false,
     "start_time": "2023-05-29T15:45:00.182748",
     "status": "completed"
    },
    "tags": []
   },
   "outputs": [
    {
     "name": "stdout",
     "output_type": "stream",
     "text": [
      "1/1 [==============================] - 0s 100ms/step\n"
     ]
    }
   ],
   "source": [
    "pd.concat([pd.DataFrame(X1['Id']), pd.DataFrame(model.predict(X1.drop('Id', axis=1)), columns=['class_0', 'class_1'])], axis=1).to_csv('submission.csv', index=False)"
   ]
  }
 ],
 "metadata": {
  "kernelspec": {
   "display_name": "Python 3",
   "language": "python",
   "name": "python3"
  },
  "language_info": {
   "codemirror_mode": {
    "name": "ipython",
    "version": 3
   },
   "file_extension": ".py",
   "mimetype": "text/x-python",
   "name": "python",
   "nbconvert_exporter": "python",
   "pygments_lexer": "ipython3",
   "version": "3.10.10"
  },
  "papermill": {
   "default_parameters": {},
   "duration": 48.288582,
   "end_time": "2023-05-29T15:45:03.120388",
   "environment_variables": {},
   "exception": null,
   "input_path": "__notebook__.ipynb",
   "output_path": "__notebook__.ipynb",
   "parameters": {},
   "start_time": "2023-05-29T15:44:14.831806",
   "version": "2.4.0"
  }
 },
 "nbformat": 4,
 "nbformat_minor": 5
}
